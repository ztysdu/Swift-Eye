{
 "cells": [
  {
   "cell_type": "code",
   "execution_count": 1,
   "metadata": {},
   "outputs": [
    {
     "name": "stderr",
     "output_type": "stream",
     "text": [
      "/home/tongyuz/.conda/envs/swift_eye/lib/python3.8/site-packages/tqdm/auto.py:21: TqdmWarning: IProgress not found. Please update jupyter and ipywidgets. See https://ipywidgets.readthedocs.io/en/stable/user_install.html\n",
      "  from .autonotebook import tqdm as notebook_tqdm\n",
      "/home/tongyuz/.conda/envs/swift_eye/lib/python3.8/site-packages/mmcv/__init__.py:20: UserWarning: On January 1, 2023, MMCV will release v2.0.0, in which it will remove components related to the training process and add a data transformation module. In addition, it will rename the package names mmcv to mmcv-lite and mmcv-full to mmcv. See https://github.com/open-mmlab/mmcv/blob/master/docs/en/compatibility.md for more details.\n",
      "  warnings.warn(\n"
     ]
    },
    {
     "data": {
      "text/plain": [
       "odict_keys(['backbone.patch_embed.projection.weight', 'backbone.patch_embed.projection.bias', 'backbone.patch_embed.norm.weight', 'backbone.patch_embed.norm.bias', 'backbone.stages.0.blocks.0.norm1.weight', 'backbone.stages.0.blocks.0.norm1.bias', 'backbone.stages.0.blocks.0.attn.w_msa.relative_position_bias_table', 'backbone.stages.0.blocks.0.attn.w_msa.relative_position_index', 'backbone.stages.0.blocks.0.attn.w_msa.qkv.weight', 'backbone.stages.0.blocks.0.attn.w_msa.qkv.bias', 'backbone.stages.0.blocks.0.attn.w_msa.proj.weight', 'backbone.stages.0.blocks.0.attn.w_msa.proj.bias', 'backbone.stages.0.blocks.0.norm2.weight', 'backbone.stages.0.blocks.0.norm2.bias', 'backbone.stages.0.blocks.0.ffn.layers.0.0.weight', 'backbone.stages.0.blocks.0.ffn.layers.0.0.bias', 'backbone.stages.0.blocks.0.ffn.layers.1.weight', 'backbone.stages.0.blocks.0.ffn.layers.1.bias', 'backbone.stages.0.blocks.1.norm1.weight', 'backbone.stages.0.blocks.1.norm1.bias', 'backbone.stages.0.blocks.1.attn.w_msa.relative_position_bias_table', 'backbone.stages.0.blocks.1.attn.w_msa.relative_position_index', 'backbone.stages.0.blocks.1.attn.w_msa.qkv.weight', 'backbone.stages.0.blocks.1.attn.w_msa.qkv.bias', 'backbone.stages.0.blocks.1.attn.w_msa.proj.weight', 'backbone.stages.0.blocks.1.attn.w_msa.proj.bias', 'backbone.stages.0.blocks.1.norm2.weight', 'backbone.stages.0.blocks.1.norm2.bias', 'backbone.stages.0.blocks.1.ffn.layers.0.0.weight', 'backbone.stages.0.blocks.1.ffn.layers.0.0.bias', 'backbone.stages.0.blocks.1.ffn.layers.1.weight', 'backbone.stages.0.blocks.1.ffn.layers.1.bias', 'backbone.stages.0.downsample.norm.weight', 'backbone.stages.0.downsample.norm.bias', 'backbone.stages.0.downsample.reduction.weight', 'backbone.stages.1.blocks.0.norm1.weight', 'backbone.stages.1.blocks.0.norm1.bias', 'backbone.stages.1.blocks.0.attn.w_msa.relative_position_bias_table', 'backbone.stages.1.blocks.0.attn.w_msa.relative_position_index', 'backbone.stages.1.blocks.0.attn.w_msa.qkv.weight', 'backbone.stages.1.blocks.0.attn.w_msa.qkv.bias', 'backbone.stages.1.blocks.0.attn.w_msa.proj.weight', 'backbone.stages.1.blocks.0.attn.w_msa.proj.bias', 'backbone.stages.1.blocks.0.norm2.weight', 'backbone.stages.1.blocks.0.norm2.bias', 'backbone.stages.1.blocks.0.ffn.layers.0.0.weight', 'backbone.stages.1.blocks.0.ffn.layers.0.0.bias', 'backbone.stages.1.blocks.0.ffn.layers.1.weight', 'backbone.stages.1.blocks.0.ffn.layers.1.bias', 'backbone.stages.1.blocks.1.norm1.weight', 'backbone.stages.1.blocks.1.norm1.bias', 'backbone.stages.1.blocks.1.attn.w_msa.relative_position_bias_table', 'backbone.stages.1.blocks.1.attn.w_msa.relative_position_index', 'backbone.stages.1.blocks.1.attn.w_msa.qkv.weight', 'backbone.stages.1.blocks.1.attn.w_msa.qkv.bias', 'backbone.stages.1.blocks.1.attn.w_msa.proj.weight', 'backbone.stages.1.blocks.1.attn.w_msa.proj.bias', 'backbone.stages.1.blocks.1.norm2.weight', 'backbone.stages.1.blocks.1.norm2.bias', 'backbone.stages.1.blocks.1.ffn.layers.0.0.weight', 'backbone.stages.1.blocks.1.ffn.layers.0.0.bias', 'backbone.stages.1.blocks.1.ffn.layers.1.weight', 'backbone.stages.1.blocks.1.ffn.layers.1.bias', 'backbone.stages.1.downsample.norm.weight', 'backbone.stages.1.downsample.norm.bias', 'backbone.stages.1.downsample.reduction.weight', 'backbone.stages.2.blocks.0.norm1.weight', 'backbone.stages.2.blocks.0.norm1.bias', 'backbone.stages.2.blocks.0.attn.w_msa.relative_position_bias_table', 'backbone.stages.2.blocks.0.attn.w_msa.relative_position_index', 'backbone.stages.2.blocks.0.attn.w_msa.qkv.weight', 'backbone.stages.2.blocks.0.attn.w_msa.qkv.bias', 'backbone.stages.2.blocks.0.attn.w_msa.proj.weight', 'backbone.stages.2.blocks.0.attn.w_msa.proj.bias', 'backbone.stages.2.blocks.0.norm2.weight', 'backbone.stages.2.blocks.0.norm2.bias', 'backbone.stages.2.blocks.0.ffn.layers.0.0.weight', 'backbone.stages.2.blocks.0.ffn.layers.0.0.bias', 'backbone.stages.2.blocks.0.ffn.layers.1.weight', 'backbone.stages.2.blocks.0.ffn.layers.1.bias', 'backbone.stages.2.blocks.1.norm1.weight', 'backbone.stages.2.blocks.1.norm1.bias', 'backbone.stages.2.blocks.1.attn.w_msa.relative_position_bias_table', 'backbone.stages.2.blocks.1.attn.w_msa.relative_position_index', 'backbone.stages.2.blocks.1.attn.w_msa.qkv.weight', 'backbone.stages.2.blocks.1.attn.w_msa.qkv.bias', 'backbone.stages.2.blocks.1.attn.w_msa.proj.weight', 'backbone.stages.2.blocks.1.attn.w_msa.proj.bias', 'backbone.stages.2.blocks.1.norm2.weight', 'backbone.stages.2.blocks.1.norm2.bias', 'backbone.stages.2.blocks.1.ffn.layers.0.0.weight', 'backbone.stages.2.blocks.1.ffn.layers.0.0.bias', 'backbone.stages.2.blocks.1.ffn.layers.1.weight', 'backbone.stages.2.blocks.1.ffn.layers.1.bias', 'backbone.stages.2.blocks.2.norm1.weight', 'backbone.stages.2.blocks.2.norm1.bias', 'backbone.stages.2.blocks.2.attn.w_msa.relative_position_bias_table', 'backbone.stages.2.blocks.2.attn.w_msa.relative_position_index', 'backbone.stages.2.blocks.2.attn.w_msa.qkv.weight', 'backbone.stages.2.blocks.2.attn.w_msa.qkv.bias', 'backbone.stages.2.blocks.2.attn.w_msa.proj.weight', 'backbone.stages.2.blocks.2.attn.w_msa.proj.bias', 'backbone.stages.2.blocks.2.norm2.weight', 'backbone.stages.2.blocks.2.norm2.bias', 'backbone.stages.2.blocks.2.ffn.layers.0.0.weight', 'backbone.stages.2.blocks.2.ffn.layers.0.0.bias', 'backbone.stages.2.blocks.2.ffn.layers.1.weight', 'backbone.stages.2.blocks.2.ffn.layers.1.bias', 'backbone.stages.2.blocks.3.norm1.weight', 'backbone.stages.2.blocks.3.norm1.bias', 'backbone.stages.2.blocks.3.attn.w_msa.relative_position_bias_table', 'backbone.stages.2.blocks.3.attn.w_msa.relative_position_index', 'backbone.stages.2.blocks.3.attn.w_msa.qkv.weight', 'backbone.stages.2.blocks.3.attn.w_msa.qkv.bias', 'backbone.stages.2.blocks.3.attn.w_msa.proj.weight', 'backbone.stages.2.blocks.3.attn.w_msa.proj.bias', 'backbone.stages.2.blocks.3.norm2.weight', 'backbone.stages.2.blocks.3.norm2.bias', 'backbone.stages.2.blocks.3.ffn.layers.0.0.weight', 'backbone.stages.2.blocks.3.ffn.layers.0.0.bias', 'backbone.stages.2.blocks.3.ffn.layers.1.weight', 'backbone.stages.2.blocks.3.ffn.layers.1.bias', 'backbone.stages.2.blocks.4.norm1.weight', 'backbone.stages.2.blocks.4.norm1.bias', 'backbone.stages.2.blocks.4.attn.w_msa.relative_position_bias_table', 'backbone.stages.2.blocks.4.attn.w_msa.relative_position_index', 'backbone.stages.2.blocks.4.attn.w_msa.qkv.weight', 'backbone.stages.2.blocks.4.attn.w_msa.qkv.bias', 'backbone.stages.2.blocks.4.attn.w_msa.proj.weight', 'backbone.stages.2.blocks.4.attn.w_msa.proj.bias', 'backbone.stages.2.blocks.4.norm2.weight', 'backbone.stages.2.blocks.4.norm2.bias', 'backbone.stages.2.blocks.4.ffn.layers.0.0.weight', 'backbone.stages.2.blocks.4.ffn.layers.0.0.bias', 'backbone.stages.2.blocks.4.ffn.layers.1.weight', 'backbone.stages.2.blocks.4.ffn.layers.1.bias', 'backbone.stages.2.blocks.5.norm1.weight', 'backbone.stages.2.blocks.5.norm1.bias', 'backbone.stages.2.blocks.5.attn.w_msa.relative_position_bias_table', 'backbone.stages.2.blocks.5.attn.w_msa.relative_position_index', 'backbone.stages.2.blocks.5.attn.w_msa.qkv.weight', 'backbone.stages.2.blocks.5.attn.w_msa.qkv.bias', 'backbone.stages.2.blocks.5.attn.w_msa.proj.weight', 'backbone.stages.2.blocks.5.attn.w_msa.proj.bias', 'backbone.stages.2.blocks.5.norm2.weight', 'backbone.stages.2.blocks.5.norm2.bias', 'backbone.stages.2.blocks.5.ffn.layers.0.0.weight', 'backbone.stages.2.blocks.5.ffn.layers.0.0.bias', 'backbone.stages.2.blocks.5.ffn.layers.1.weight', 'backbone.stages.2.blocks.5.ffn.layers.1.bias', 'backbone.stages.2.downsample.norm.weight', 'backbone.stages.2.downsample.norm.bias', 'backbone.stages.2.downsample.reduction.weight', 'backbone.stages.3.blocks.0.norm1.weight', 'backbone.stages.3.blocks.0.norm1.bias', 'backbone.stages.3.blocks.0.attn.w_msa.relative_position_bias_table', 'backbone.stages.3.blocks.0.attn.w_msa.relative_position_index', 'backbone.stages.3.blocks.0.attn.w_msa.qkv.weight', 'backbone.stages.3.blocks.0.attn.w_msa.qkv.bias', 'backbone.stages.3.blocks.0.attn.w_msa.proj.weight', 'backbone.stages.3.blocks.0.attn.w_msa.proj.bias', 'backbone.stages.3.blocks.0.norm2.weight', 'backbone.stages.3.blocks.0.norm2.bias', 'backbone.stages.3.blocks.0.ffn.layers.0.0.weight', 'backbone.stages.3.blocks.0.ffn.layers.0.0.bias', 'backbone.stages.3.blocks.0.ffn.layers.1.weight', 'backbone.stages.3.blocks.0.ffn.layers.1.bias', 'backbone.stages.3.blocks.1.norm1.weight', 'backbone.stages.3.blocks.1.norm1.bias', 'backbone.stages.3.blocks.1.attn.w_msa.relative_position_bias_table', 'backbone.stages.3.blocks.1.attn.w_msa.relative_position_index', 'backbone.stages.3.blocks.1.attn.w_msa.qkv.weight', 'backbone.stages.3.blocks.1.attn.w_msa.qkv.bias', 'backbone.stages.3.blocks.1.attn.w_msa.proj.weight', 'backbone.stages.3.blocks.1.attn.w_msa.proj.bias', 'backbone.stages.3.blocks.1.norm2.weight', 'backbone.stages.3.blocks.1.norm2.bias', 'backbone.stages.3.blocks.1.ffn.layers.0.0.weight', 'backbone.stages.3.blocks.1.ffn.layers.0.0.bias', 'backbone.stages.3.blocks.1.ffn.layers.1.weight', 'backbone.stages.3.blocks.1.ffn.layers.1.bias', 'backbone.norm0.weight', 'backbone.norm0.bias', 'backbone.norm1.weight', 'backbone.norm1.bias', 'backbone.norm2.weight', 'backbone.norm2.bias', 'backbone.norm3.weight', 'backbone.norm3.bias', 'neck.lateral_convs.0.conv.weight', 'neck.lateral_convs.0.conv.bias', 'neck.lateral_convs.1.conv.weight', 'neck.lateral_convs.1.conv.bias', 'neck.lateral_convs.2.conv.weight', 'neck.lateral_convs.2.conv.bias', 'neck.lateral_convs.3.conv.weight', 'neck.lateral_convs.3.conv.bias', 'neck.fpn_convs.0.conv.weight', 'neck.fpn_convs.0.conv.bias', 'neck.fpn_convs.1.conv.weight', 'neck.fpn_convs.1.conv.bias', 'neck.fpn_convs.2.conv.weight', 'neck.fpn_convs.2.conv.bias', 'neck.fpn_convs.3.conv.weight', 'neck.fpn_convs.3.conv.bias', 'tracking_head.cls_convs.0.conv.weight', 'tracking_head.cls_convs.0.conv.bias', 'tracking_head.cls_convs.1.conv.weight', 'tracking_head.cls_convs.1.conv.bias', 'tracking_head.cls_convs.2.conv.weight', 'tracking_head.cls_convs.2.conv.bias', 'tracking_head.cls_convs.3.conv.weight', 'tracking_head.cls_convs.3.conv.bias', 'tracking_head.reg_convs.0.conv.weight', 'tracking_head.reg_convs.0.conv.bias', 'tracking_head.reg_convs.1.conv.weight', 'tracking_head.reg_convs.1.conv.bias', 'tracking_head.reg_convs.2.conv.weight', 'tracking_head.reg_convs.2.conv.bias', 'tracking_head.reg_convs.3.conv.weight', 'tracking_head.reg_convs.3.conv.bias', 'tracking_head.retina_cls.weight', 'tracking_head.retina_cls.bias', 'tracking_head.retina_reg.weight', 'tracking_head.retina_reg.bias', 'detection_head.cls_convs.0.conv.weight', 'detection_head.cls_convs.0.conv.bias', 'detection_head.cls_convs.1.conv.weight', 'detection_head.cls_convs.1.conv.bias', 'detection_head.cls_convs.2.conv.weight', 'detection_head.cls_convs.2.conv.bias', 'detection_head.cls_convs.3.conv.weight', 'detection_head.cls_convs.3.conv.bias', 'detection_head.reg_convs.0.conv.weight', 'detection_head.reg_convs.0.conv.bias', 'detection_head.reg_convs.1.conv.weight', 'detection_head.reg_convs.1.conv.bias', 'detection_head.reg_convs.2.conv.weight', 'detection_head.reg_convs.2.conv.bias', 'detection_head.reg_convs.3.conv.weight', 'detection_head.reg_convs.3.conv.bias', 'detection_head.retina_cls.weight', 'detection_head.retina_cls.bias', 'detection_head.retina_reg.weight', 'detection_head.retina_reg.bias', 'correlation_head.kernel_convs.conv.weight', 'correlation_head.kernel_convs.bn.weight', 'correlation_head.kernel_convs.bn.bias', 'correlation_head.kernel_convs.bn.running_mean', 'correlation_head.kernel_convs.bn.running_var', 'correlation_head.kernel_convs.bn.num_batches_tracked', 'correlation_head.search_convs.conv.weight', 'correlation_head.search_convs.bn.weight', 'correlation_head.search_convs.bn.bias', 'correlation_head.search_convs.bn.running_mean', 'correlation_head.search_convs.bn.running_var', 'correlation_head.search_convs.bn.num_batches_tracked', 'unet.inc.double_conv.0.weight', 'unet.inc.double_conv.1.weight', 'unet.inc.double_conv.1.bias', 'unet.inc.double_conv.1.running_mean', 'unet.inc.double_conv.1.running_var', 'unet.inc.double_conv.1.num_batches_tracked', 'unet.inc.double_conv.3.weight', 'unet.inc.double_conv.4.weight', 'unet.inc.double_conv.4.bias', 'unet.inc.double_conv.4.running_mean', 'unet.inc.double_conv.4.running_var', 'unet.inc.double_conv.4.num_batches_tracked', 'unet.down1.maxpool_conv.1.double_conv.0.weight', 'unet.down1.maxpool_conv.1.double_conv.1.weight', 'unet.down1.maxpool_conv.1.double_conv.1.bias', 'unet.down1.maxpool_conv.1.double_conv.1.running_mean', 'unet.down1.maxpool_conv.1.double_conv.1.running_var', 'unet.down1.maxpool_conv.1.double_conv.1.num_batches_tracked', 'unet.down1.maxpool_conv.1.double_conv.3.weight', 'unet.down1.maxpool_conv.1.double_conv.4.weight', 'unet.down1.maxpool_conv.1.double_conv.4.bias', 'unet.down1.maxpool_conv.1.double_conv.4.running_mean', 'unet.down1.maxpool_conv.1.double_conv.4.running_var', 'unet.down1.maxpool_conv.1.double_conv.4.num_batches_tracked', 'unet.down2.maxpool_conv.1.double_conv.0.weight', 'unet.down2.maxpool_conv.1.double_conv.1.weight', 'unet.down2.maxpool_conv.1.double_conv.1.bias', 'unet.down2.maxpool_conv.1.double_conv.1.running_mean', 'unet.down2.maxpool_conv.1.double_conv.1.running_var', 'unet.down2.maxpool_conv.1.double_conv.1.num_batches_tracked', 'unet.down2.maxpool_conv.1.double_conv.3.weight', 'unet.down2.maxpool_conv.1.double_conv.4.weight', 'unet.down2.maxpool_conv.1.double_conv.4.bias', 'unet.down2.maxpool_conv.1.double_conv.4.running_mean', 'unet.down2.maxpool_conv.1.double_conv.4.running_var', 'unet.down2.maxpool_conv.1.double_conv.4.num_batches_tracked', 'unet.down3.maxpool_conv.1.double_conv.0.weight', 'unet.down3.maxpool_conv.1.double_conv.1.weight', 'unet.down3.maxpool_conv.1.double_conv.1.bias', 'unet.down3.maxpool_conv.1.double_conv.1.running_mean', 'unet.down3.maxpool_conv.1.double_conv.1.running_var', 'unet.down3.maxpool_conv.1.double_conv.1.num_batches_tracked', 'unet.down3.maxpool_conv.1.double_conv.3.weight', 'unet.down3.maxpool_conv.1.double_conv.4.weight', 'unet.down3.maxpool_conv.1.double_conv.4.bias', 'unet.down3.maxpool_conv.1.double_conv.4.running_mean', 'unet.down3.maxpool_conv.1.double_conv.4.running_var', 'unet.down3.maxpool_conv.1.double_conv.4.num_batches_tracked', 'unet.down4.maxpool_conv.1.double_conv.0.weight', 'unet.down4.maxpool_conv.1.double_conv.1.weight', 'unet.down4.maxpool_conv.1.double_conv.1.bias', 'unet.down4.maxpool_conv.1.double_conv.1.running_mean', 'unet.down4.maxpool_conv.1.double_conv.1.running_var', 'unet.down4.maxpool_conv.1.double_conv.1.num_batches_tracked', 'unet.down4.maxpool_conv.1.double_conv.3.weight', 'unet.down4.maxpool_conv.1.double_conv.4.weight', 'unet.down4.maxpool_conv.1.double_conv.4.bias', 'unet.down4.maxpool_conv.1.double_conv.4.running_mean', 'unet.down4.maxpool_conv.1.double_conv.4.running_var', 'unet.down4.maxpool_conv.1.double_conv.4.num_batches_tracked', 'unet.up1.up.weight', 'unet.up1.up.bias', 'unet.up1.conv.double_conv.0.weight', 'unet.up1.conv.double_conv.1.weight', 'unet.up1.conv.double_conv.1.bias', 'unet.up1.conv.double_conv.1.running_mean', 'unet.up1.conv.double_conv.1.running_var', 'unet.up1.conv.double_conv.1.num_batches_tracked', 'unet.up1.conv.double_conv.3.weight', 'unet.up1.conv.double_conv.4.weight', 'unet.up1.conv.double_conv.4.bias', 'unet.up1.conv.double_conv.4.running_mean', 'unet.up1.conv.double_conv.4.running_var', 'unet.up1.conv.double_conv.4.num_batches_tracked', 'unet.up2.up.weight', 'unet.up2.up.bias', 'unet.up2.conv.double_conv.0.weight', 'unet.up2.conv.double_conv.1.weight', 'unet.up2.conv.double_conv.1.bias', 'unet.up2.conv.double_conv.1.running_mean', 'unet.up2.conv.double_conv.1.running_var', 'unet.up2.conv.double_conv.1.num_batches_tracked', 'unet.up2.conv.double_conv.3.weight', 'unet.up2.conv.double_conv.4.weight', 'unet.up2.conv.double_conv.4.bias', 'unet.up2.conv.double_conv.4.running_mean', 'unet.up2.conv.double_conv.4.running_var', 'unet.up2.conv.double_conv.4.num_batches_tracked', 'unet.up3.up.weight', 'unet.up3.up.bias', 'unet.up3.conv.double_conv.0.weight', 'unet.up3.conv.double_conv.1.weight', 'unet.up3.conv.double_conv.1.bias', 'unet.up3.conv.double_conv.1.running_mean', 'unet.up3.conv.double_conv.1.running_var', 'unet.up3.conv.double_conv.1.num_batches_tracked', 'unet.up3.conv.double_conv.3.weight', 'unet.up3.conv.double_conv.4.weight', 'unet.up3.conv.double_conv.4.bias', 'unet.up3.conv.double_conv.4.running_mean', 'unet.up3.conv.double_conv.4.running_var', 'unet.up3.conv.double_conv.4.num_batches_tracked', 'unet.up4.up.weight', 'unet.up4.up.bias', 'unet.up4.conv.double_conv.0.weight', 'unet.up4.conv.double_conv.1.weight', 'unet.up4.conv.double_conv.1.bias', 'unet.up4.conv.double_conv.1.running_mean', 'unet.up4.conv.double_conv.1.running_var', 'unet.up4.conv.double_conv.1.num_batches_tracked', 'unet.up4.conv.double_conv.3.weight', 'unet.up4.conv.double_conv.4.weight', 'unet.up4.conv.double_conv.4.bias', 'unet.up4.conv.double_conv.4.running_mean', 'unet.up4.conv.double_conv.4.running_var', 'unet.up4.conv.double_conv.4.num_batches_tracked', 'unet.outc.conv.weight', 'unet.outc.conv.bias'])"
      ]
     },
     "execution_count": 1,
     "metadata": {},
     "output_type": "execute_result"
    }
   ],
   "source": [
    "import torch\n",
    "from model import swift_eye\n",
    "model=swift_eye('./model_config.py')\n",
    "all_state_dict={}\n",
    "model.state_dict().keys()"
   ]
  },
  {
   "cell_type": "code",
   "execution_count": 2,
   "metadata": {},
   "outputs": [],
   "source": [
    "#load backbone and neck\n",
    "weights=torch.load('../train_backbone_and_neck/work_dir/epoch_30.pth')\n",
    "backbone_state_dict={}\n",
    "for k,v in weights['state_dict'].items():\n",
    "    if 'backbone' in k:#load backbone \n",
    "        backbone_state_dict[k]=v\n",
    "neck_state_dict={}\n",
    "for k,v in weights['state_dict'].items():\n",
    "    if 'neck' in k:#load neck\n",
    "        neck_state_dict[k]=v"
   ]
  },
  {
   "cell_type": "code",
   "execution_count": 3,
   "metadata": {},
   "outputs": [],
   "source": [
    "#load temporal fusion component\n",
    "tracking_model=torch.load('../train_with_temporal_fusion_component/work_dir/epoch_29.pth')\n",
    "tracking_head_state_dict={}\n",
    "for k,v in tracking_model.items():\n",
    "    if 'correlation_head' in k:\n",
    "        tracking_head_state_dict[k]=v\n",
    "    if 'tracking_head' in k:\n",
    "        tracking_head_state_dict[k]=v"
   ]
  },
  {
   "cell_type": "code",
   "execution_count": 4,
   "metadata": {},
   "outputs": [],
   "source": [
    "#load w/o temporal fusion component\n",
    "detection_model=torch.load('../train_without_temporal_fusion_component/work_dir/epoch_24.pth')\n",
    "detection_head_state_dict={}\n",
    "for k,v in detection_model.items():\n",
    "    if 'detection_head' in k:\n",
    "        detection_head_state_dict[k]=v"
   ]
  },
  {
   "cell_type": "code",
   "execution_count": 6,
   "metadata": {},
   "outputs": [],
   "source": [
    "# load unet\n",
    "\n",
    "unet_state_dict={}\n",
    "unet_model=torch.load('./unet/checkpoint_epoch15.pth')\n",
    "unet_model.pop('mask_values', [0, 1])\n",
    "for k,v in unet_model.items():\n",
    "    new_k=\"unet.\"+k\n",
    "    unet_state_dict[new_k]=v"
   ]
  },
  {
   "cell_type": "code",
   "execution_count": 7,
   "metadata": {},
   "outputs": [],
   "source": [
    "all_state_dict.update(backbone_state_dict)\n",
    "all_state_dict.update(neck_state_dict)\n",
    "all_state_dict.update(tracking_head_state_dict)\n",
    "all_state_dict.update(detection_head_state_dict)\n",
    "all_state_dict.update(unet_state_dict)\n",
    "model.load_state_dict(all_state_dict)\n",
    "torch.save(model.state_dict(),'./model.pth')"
   ]
  }
 ],
 "metadata": {
  "kernelspec": {
   "display_name": "swift_eye",
   "language": "python",
   "name": "python3"
  },
  "language_info": {
   "codemirror_mode": {
    "name": "ipython",
    "version": 3
   },
   "file_extension": ".py",
   "mimetype": "text/x-python",
   "name": "python",
   "nbconvert_exporter": "python",
   "pygments_lexer": "ipython3",
   "version": "3.8.18"
  }
 },
 "nbformat": 4,
 "nbformat_minor": 2
}
